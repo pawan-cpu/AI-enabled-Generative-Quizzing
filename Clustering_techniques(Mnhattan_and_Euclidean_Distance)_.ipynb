{
  "nbformat": 4,
  "nbformat_minor": 0,
  "metadata": {
    "colab": {
      "provenance": [],
      "authorship_tag": "ABX9TyMTIgZjt7yhB6bwNXzfFX4j",
      "include_colab_link": true
    },
    "kernelspec": {
      "name": "python3",
      "display_name": "Python 3"
    },
    "language_info": {
      "name": "python"
    }
  },
  "cells": [
    {
      "cell_type": "markdown",
      "metadata": {
        "id": "view-in-github",
        "colab_type": "text"
      },
      "source": [
        "<a href=\"https://colab.research.google.com/github/pawan-cpu/Types-of-machine-learning-Notebooks/blob/main/Clustering_techniques(Mnhattan_and_Euclidean_Distance)_.ipynb\" target=\"_parent\"><img src=\"https://colab.research.google.com/assets/colab-badge.svg\" alt=\"Open In Colab\"/></a>"
      ]
    },
    {
      "cell_type": "markdown",
      "source": [
        "Calculate Hamming Distance in Python"
      ],
      "metadata": {
        "id": "xsN9TK6RrtGJ"
      }
    },
    {
      "cell_type": "markdown",
      "source": [
        "Now to count the number of bits that differ we will make use of the XOR operation. XOR only results in 1 if the bits differ otherwise it results in 0. Finally, we will compute the number of set bits in the XOR of the two numbers."
      ],
      "metadata": {
        "id": "v_IWzrAnsAOw"
      }
    },
    {
      "cell_type": "code",
      "source": [
        "a = int(input())\n",
        "b = int(input())\n",
        "\n",
        "x = a^b\n",
        "final_ans = 0;\n",
        "\n",
        "while (x > 0):\n",
        "    final_ans += x & 1;\n",
        "    x >>= 1;\n",
        "\n",
        "print(\"First Number: \",a)\n",
        "print(\"Second Number: \",b)\n",
        "print(\"Hamming Distance: \",final_ans)\n"
      ],
      "metadata": {
        "colab": {
          "base_uri": "https://localhost:8080/"
        },
        "id": "fBIqiQwArvBZ",
        "outputId": "048f00bc-6a9d-4435-ed43-c6699bbd9674"
      },
      "execution_count": 4,
      "outputs": [
        {
          "output_type": "stream",
          "name": "stdout",
          "text": [
            "4\n",
            "6\n",
            "First Number:  4\n",
            "Second Number:  6\n",
            "Hamming Distance:  1\n"
          ]
        }
      ]
    },
    {
      "cell_type": "markdown",
      "source": [
        "Calculate Euclidean Distance in Python"
      ],
      "metadata": {
        "id": "KthFhPgnslIw"
      }
    },
    {
      "cell_type": "markdown",
      "source": [
        "Euclidean Distance is a distance between two points in space that can be measured with the help of the Pythagorean formula. The formula is shown below:\n",
        "\n",
        "Consider the points as (x,y,z) and (a,b,c) then the distance is computed as:\n",
        "square root of [ (x-a)^2 + (y-b)^2 + (z-c)^2 ]."
      ],
      "metadata": {
        "id": "qF0N_92BssC3"
      }
    },
    {
      "cell_type": "code",
      "source": [
        "import numpy as np\n",
        "p1 = np.array((1,2,3))\n",
        "p2 = np.array((2,2,1))\n",
        "sq = np.sum(np.square(p1-p2))\n",
        "print(np.sqrt((sq)))\n"
      ],
      "metadata": {
        "colab": {
          "base_uri": "https://localhost:8080/"
        },
        "id": "nlsrjAdGsq1N",
        "outputId": "80997688-928d-4763-a632-6dd8680bbd8f"
      },
      "execution_count": 5,
      "outputs": [
        {
          "output_type": "stream",
          "name": "stdout",
          "text": [
            "2.23606797749979\n"
          ]
        }
      ]
    },
    {
      "cell_type": "markdown",
      "source": [
        "Calculate Manhattan Distance in Python"
      ],
      "metadata": {
        "id": "XifUpN4fudqU"
      }
    },
    {
      "cell_type": "markdown",
      "source": [
        "The Manhattan distance between two vectors/arrays (say A and B), is calculated as Σ|Ai – Bi| where Ai is the ith element in the first array and Bi is the ith element in the second array.\n",
        "\n"
      ],
      "metadata": {
        "id": "hsjPSjAzuea_"
      }
    },
    {
      "cell_type": "code",
      "source": [
        "A = [1,2,3]\n",
        "B = [5,3,2]\n",
        "\n",
        "dis = 0\n",
        "\n",
        "for i in range(len(A)):\n",
        "    dis += abs(A[i] - B[i])\n",
        "\n",
        "print(\"First Array is: \", A)\n",
        "print(\"Second Array is: \", B)\n",
        "print(\"Manhattan Distance is: \", dis)\n"
      ],
      "metadata": {
        "colab": {
          "base_uri": "https://localhost:8080/"
        },
        "id": "u5FxgEiiuizd",
        "outputId": "a08c4630-2e36-42e0-a5a6-aa513194bd20"
      },
      "execution_count": 6,
      "outputs": [
        {
          "output_type": "stream",
          "name": "stdout",
          "text": [
            "First Array is:  [1, 2, 3]\n",
            "Second Array is:  [5, 3, 2]\n",
            "Manhattan Distance is:  6\n"
          ]
        }
      ]
    }
  ]
}