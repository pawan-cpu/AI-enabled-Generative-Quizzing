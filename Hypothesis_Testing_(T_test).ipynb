{
  "nbformat": 4,
  "nbformat_minor": 0,
  "metadata": {
    "colab": {
      "provenance": [],
      "authorship_tag": "ABX9TyNCfQ4vXOgzPECbci/Up+Po",
      "include_colab_link": true
    },
    "kernelspec": {
      "name": "python3",
      "display_name": "Python 3"
    },
    "language_info": {
      "name": "python"
    }
  },
  "cells": [
    {
      "cell_type": "markdown",
      "metadata": {
        "id": "view-in-github",
        "colab_type": "text"
      },
      "source": [
        "<a href=\"https://colab.research.google.com/github/pawan-cpu/Types-of-machine-learning-Notebooks/blob/main/Hypothesis_Testing_(T_test).ipynb\" target=\"_parent\"><img src=\"https://colab.research.google.com/assets/colab-badge.svg\" alt=\"Open In Colab\"/></a>"
      ]
    },
    {
      "cell_type": "code",
      "execution_count": null,
      "metadata": {
        "id": "ahTG4S6sWsBe"
      },
      "outputs": [],
      "source": [
        "#statistical hypothesis testing are based on a statement called null hypothesis(Eg:Donald trump will win 2024 election) that assumes nothing\n",
        "#interesting is going between whatever variable we are testing.Test the assumption given.If you want to test avg age of voters ,then null hypohesis\n",
        "# would be used to calculate the difference\n",
        "\n",
        "#One Sample T-Test checks whether a sample mean differs frrom pop mean.\n"
      ]
    },
    {
      "cell_type": "code",
      "source": [
        "%matplotlib inline\n",
        "import numpy as np\n",
        "import pandas as pd\n",
        "import scipy.stats as stats #Scipy used for statistics calcultions\n",
        "import matplotlib.pyplot as plt\n",
        "import random\n",
        "import math"
      ],
      "metadata": {
        "id": "Y1G2x6VsYsLA"
      },
      "execution_count": 1,
      "outputs": []
    },
    {
      "cell_type": "code",
      "source": [
        "np.random.seed(6)\n",
        "population_ages1 = stats.poisson.rvs(loc=18, mu=35, size=150000)\n",
        "population_ages2 = stats.poisson.rvs(loc=18,  mu=20, size=150000)\n",
        "population_ages = np.concatenate((population_ages1,population_ages2))\n",
        "\n",
        "delhi_ages1= stats.poisson.rvs(loc=18,  mu=30, size=150000)\n",
        "delhi_ages2= stats.poisson.rvs(loc=18,  mu=20, size=150000)\n",
        "delhi_ages = np.concatenate((delhi_ages1,delhi_ages2))\n",
        "\n",
        "print(population_ages.mean())\n",
        "print(delhi_ages.mean())\n"
      ],
      "metadata": {
        "colab": {
          "base_uri": "https://localhost:8080/"
        },
        "id": "OTqdTItpZJpa",
        "outputId": "3ad312fc-175b-4af8-cb4b-04889b19c8e1"
      },
      "execution_count": 2,
      "outputs": [
        {
          "output_type": "stream",
          "name": "stdout",
          "text": [
            "45.50064666666667\n",
            "43.007823333333334\n"
          ]
        }
      ]
    },
    {
      "cell_type": "code",
      "source": [
        "#If we a different combination of distribution to generate sample data for delhi,we know both mean are different .Let's conduct a t-test at a 95%\n",
        "#confidence level and see if it rejects null hypothesis that he sample comes from same distribution.Conduct a one sample t-test\n",
        "\n",
        "stats.ttest_1samp(a=delhi_ages,   #sample data\n",
        "                  popmean=population_ages.mean())  #actual pop mean"
      ],
      "metadata": {
        "colab": {
          "base_uri": "https://localhost:8080/"
        },
        "id": "9jvgf4XybQoH",
        "outputId": "7cabf6ad-301a-43d5-f1c1-8b51a721538a"
      },
      "execution_count": 3,
      "outputs": [
        {
          "output_type": "execute_result",
          "data": {
            "text/plain": [
              "TtestResult(statistic=-193.0258936190285, pvalue=0.0, df=299999)"
            ]
          },
          "metadata": {},
          "execution_count": 3
        }
      ]
    },
    {
      "cell_type": "code",
      "source": [
        "#the test result is test statistic is equal to \"-193(DEVIATION)\".The test statistic tells us how much sample mean deviates from null hypothesis.\n",
        "#If the t-statistic lies outside the quantile of t distribution corresponding to our confidence level,we reject the null hypothesis(assumption).\n",
        "#we can check the quantiles with stats.t.ppf():"
      ],
      "metadata": {
        "id": "_4GB4ua1dDaN"
      },
      "execution_count": null,
      "outputs": []
    },
    {
      "cell_type": "code",
      "source": [
        "#LOWER Quantile(upto 20-30 percentile)\n",
        "stats.t.ppf(q=0.025, #Quantile to check\n",
        "            df=49) #degrees of freedom"
      ],
      "metadata": {
        "colab": {
          "base_uri": "https://localhost:8080/"
        },
        "id": "mq4eQHCAe-xL",
        "outputId": "dc50243f-9f7e-47ba-c9ab-00c9bbcd9b63"
      },
      "execution_count": 4,
      "outputs": [
        {
          "output_type": "execute_result",
          "data": {
            "text/plain": [
              "-2.0095752371292397"
            ]
          },
          "metadata": {},
          "execution_count": 4
        }
      ]
    },
    {
      "cell_type": "code",
      "source": [
        "#LOWER Quantile(upto 20-30 percentile)\n",
        "stats.t.ppf(q=0.0975, #Quantile to check\n",
        "            df=49) #degrees of freedom\n",
        "\n",
        "\n",
        "#In upper quantile(or top no of people) chances of error less"
      ],
      "metadata": {
        "colab": {
          "base_uri": "https://localhost:8080/"
        },
        "id": "YwFJafM9f1o_",
        "outputId": "8b45bed1-f4d1-4b2f-cf87-6ed03a27eb78"
      },
      "execution_count": 5,
      "outputs": [
        {
          "output_type": "execute_result",
          "data": {
            "text/plain": [
              "-1.3138945091818843"
            ]
          },
          "metadata": {},
          "execution_count": 5
        }
      ]
    },
    {
      "cell_type": "code",
      "source": [],
      "metadata": {
        "id": "iN2_Y2nNgnxo"
      },
      "execution_count": null,
      "outputs": []
    }
  ]
}