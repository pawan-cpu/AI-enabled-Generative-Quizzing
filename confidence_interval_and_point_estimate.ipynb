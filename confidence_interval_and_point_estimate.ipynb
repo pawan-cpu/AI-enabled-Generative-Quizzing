{
  "nbformat": 4,
  "nbformat_minor": 0,
  "metadata": {
    "colab": {
      "provenance": [],
      "authorship_tag": "ABX9TyMGKM9eX1xrztcRVfVqW4cq",
      "include_colab_link": true
    },
    "kernelspec": {
      "name": "python3",
      "display_name": "Python 3"
    },
    "language_info": {
      "name": "python"
    }
  },
  "cells": [
    {
      "cell_type": "markdown",
      "metadata": {
        "id": "view-in-github",
        "colab_type": "text"
      },
      "source": [
        "<a href=\"https://colab.research.google.com/github/pawan-cpu/Types-of-machine-learning-Notebooks/blob/main/confidence_interval_and_point_estimate.ipynb\" target=\"_parent\"><img src=\"https://colab.research.google.com/assets/colab-badge.svg\" alt=\"Open In Colab\"/></a>"
      ]
    },
    {
      "cell_type": "code",
      "execution_count": null,
      "metadata": {
        "id": "A8oCr8wfKxkj"
      },
      "outputs": [],
      "source": [
        "l#Using the graphs we plot the data and we statistics(mean,median ,mode,variance for getting the required results).For eg:leading us general presidential\n",
        "#election it could be used to find out the voters political leaning of every single voter,but surveying vote is not feasible.Instead we could take an est or\n",
        "#subset of people(1000 people) who they will vote"
      ]
    },
    {
      "cell_type": "code",
      "source": [
        "#point estimate\n",
        "#point estimates are estimates of population parameters based on sample data.For eg if we wanted to know what is the avg age of voters registered in US\n",
        "#,we should take a survey of respondents as a estimate of avg age of pop as a whole\n",
        "\n",
        "%matplotlib inline\n",
        "import numpy as np\n",
        "import pandas as pd\n",
        "import scipy.stats as stats #Scipy used for statistics calcultions\n",
        "import matplotlib.pyplot as plt\n",
        "import random\n",
        "import math"
      ],
      "metadata": {
        "id": "XpSnOrbkMqJe"
      },
      "execution_count": null,
      "outputs": []
    },
    {
      "cell_type": "code",
      "source": [],
      "metadata": {
        "id": "9DNpjQRgQtG6"
      },
      "execution_count": null,
      "outputs": []
    },
    {
      "cell_type": "code",
      "source": [
        "np.random.seed(10)\n",
        "population_ages1 = stats.poisson.rvs(loc=18, mu=36, size=150000)\n",
        "population_ages2 = stats.poisson.rvs(loc=18, mu=36, size=100000)\n",
        "population_ages = np.concatenate((population_ages1,population_ages2)) #concatenate adds both the results from both age groups\n",
        "\n",
        "population_ages.mean()\n"
      ],
      "metadata": {
        "colab": {
          "base_uri": "https://localhost:8080/"
        },
        "id": "d0n3v38IOQGB",
        "outputId": "58cfb658-a293-4a86-92a2-5b498b788573"
      },
      "execution_count": null,
      "outputs": [
        {
          "output_type": "execute_result",
          "data": {
            "text/plain": [
              "54.006368"
            ]
          },
          "metadata": {},
          "execution_count": 4
        }
      ]
    },
    {
      "cell_type": "code",
      "source": [
        "#point estimate\n",
        "np,random.seed(6)\n",
        "sample_ages=np.random.choice(a=population_ages,size=500) #sample values\n",
        "print(sample_ages.mean()) #show the sample mean\n",
        "population_ages.mean()-sample_ages.mean() #check diff between means"
      ],
      "metadata": {
        "colab": {
          "base_uri": "https://localhost:8080/"
        },
        "id": "NJRTywDRQvqB",
        "outputId": "1fda27cc-bdb1-4e0c-f109-4d8b3ddbe22a"
      },
      "execution_count": null,
      "outputs": [
        {
          "output_type": "stream",
          "name": "stdout",
          "text": [
            "54.438\n"
          ]
        },
        {
          "output_type": "execute_result",
          "data": {
            "text/plain": [
              "-0.43163200000000046"
            ]
          },
          "metadata": {},
          "execution_count": 7
        }
      ]
    },
    {
      "cell_type": "code",
      "source": [],
      "metadata": {
        "id": "XV0dvZmgZAAz"
      },
      "execution_count": null,
      "outputs": []
    },
    {
      "cell_type": "code",
      "source": [
        "#our point estimate on a sample of 500 individuals understimates true mean population meanby 0.43 but it is very close\n",
        "#Another point estimate that may be of interest is proportion of population that belong to same subgroup\n",
        "\n",
        "#Racing course :horse racing\n",
        "#For eg:we want to know the race of the particular horses breed and get anoverview of the overalldemographics of voter base.\n",
        "\n"
      ],
      "metadata": {
        "id": "CzdMR6ekRzZl"
      },
      "execution_count": null,
      "outputs": []
    },
    {
      "cell_type": "code",
      "source": [
        "random.seed(10)\n",
        "population_races=([\"white\"]*100000)+([\"black\"]*50000) +\\\n",
        "                 ([\"brown\"]*50000)+([\"Red\"]*25000)+\\\n",
        "                 ([\"other\"]*25000)\n",
        "demo_sample=random.sample(population_races,1000)  #sample 1000 values\n",
        "for race in set(demo_sample):\n",
        "  print(race +\"proportion estimate:\")\n",
        "  print(demo_sample.count(race)/1000)\n"
      ],
      "metadata": {
        "colab": {
          "base_uri": "https://localhost:8080/"
        },
        "id": "XpgdSpP_TbDR",
        "outputId": "2a648f2a-c4d6-4e26-ce43-e4c8cd1109b2"
      },
      "execution_count": null,
      "outputs": [
        {
          "output_type": "stream",
          "name": "stdout",
          "text": [
            "otherproportion estimate:\n",
            "0.099\n",
            "whiteproportion estimate:\n",
            "0.379\n",
            "brownproportion estimate:\n",
            "0.192\n",
            "blackproportion estimate:\n",
            "0.231\n",
            "Redproportion estimate:\n",
            "0.099\n"
          ]
        }
      ]
    },
    {
      "cell_type": "code",
      "source": [
        "#sampling distribution and the central limit theorem\n",
        "#many of the statistics procedure based on assumption that the follows a normal or Equal distribution(50-Male,50-Female) it has symmetry and have majority\n",
        "#of data srored in same format(Probability distribution)\n",
        "\n",
        "pd.DataFrame(population_ages).hist(bins=58,\n",
        "                                   range=(17.5,75.5),\n",
        "                                   figsize=(9,9))\n",
        "print(stats.skew(population_ages));"
      ],
      "metadata": {
        "colab": {
          "base_uri": "https://localhost:8080/",
          "height": 793
        },
        "id": "6t6dku49Vwfp",
        "outputId": "a87aede0-bec0-43a5-e4a0-d42c693153a2"
      },
      "execution_count": null,
      "outputs": [
        {
          "output_type": "stream",
          "name": "stdout",
          "text": [
            "0.16559852207892647\n"
          ]
        },
        {
          "output_type": "display_data",
          "data": {
            "text/plain": [
              "<Figure size 900x900 with 1 Axes>"
            ],
            "image/png": "[encoded data removed]"
          },
          "metadata": {}
        }
      ]
    },
    {
      "cell_type": "code",
      "source": [
        "pd.DataFrame(sample_ages).hist(bins=58,\n",
        "                                   range=(17.5,75.5),\n",
        "                                   figsize=(9,9))\n",
        "print(stats.skew(sample_ages));"
      ],
      "metadata": {
        "colab": {
          "base_uri": "https://localhost:8080/",
          "height": 793
        },
        "id": "bLagQYyRYpkv",
        "outputId": "07d160d4-7ab8-4534-d6fb-2947f21be355"
      },
      "execution_count": null,
      "outputs": [
        {
          "output_type": "stream",
          "name": "stdout",
          "text": [
            "0.2023437166681186\n"
          ]
        },
        {
          "output_type": "display_data",
          "data": {
            "text/plain": [
              "<Figure size 900x900 with 1 Axes>"
            ],
            "image/png": "[encoded data removed]"
          },
          "metadata": {}
        }
      ]
    },
    {
      "cell_type": "code",
      "source": [
        "  T-test,chi-squared tests\n",
        "\n",
        "Models:linear regression\n",
        "logistic  regression\n",
        "decision trees\n",
        "Rnadom forests"
      ],
      "metadata": {
        "id": "9b1z2__4ZBnH"
      },
      "execution_count": null,
      "outputs": []
    }
  ]
}